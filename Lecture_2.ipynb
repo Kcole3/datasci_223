{
 "cells": [
  {
   "cell_type": "code",
   "execution_count": 2,
   "metadata": {},
   "outputs": [
    {
     "name": "stdout",
     "output_type": "stream",
     "text": [
      "1\n"
     ]
    },
    {
     "name": "stderr",
     "output_type": "stream",
     "text": [
      "/var/folders/k2/h7t5byyn0_sc57mcln13ql6w0000gn/T/ipykernel_44549/3583930474.py:4: DeprecationWarning: \n",
      "Pyarrow will become a required dependency of pandas in the next major release of pandas (pandas 3.0),\n",
      "(to allow more performant data types, such as the Arrow string type, and better interoperability with other libraries)\n",
      "but was not found to be installed on your system.\n",
      "If this would cause problems for you,\n",
      "please provide us feedback at https://github.com/pandas-dev/pandas/issues/54466\n",
      "        \n",
      "  import pandas as pd\n"
     ]
    }
   ],
   "source": [
    "a=1\n",
    "print(a)\n",
    "import numpy as numpy\n",
    "import pandas as pd\n"
   ]
  },
  {
   "cell_type": "code",
   "execution_count": 3,
   "metadata": {},
   "outputs": [],
   "source": [
    "data = {\"state\": [\"Ohio\", \"Ohio\", \"Ohio\", \"Nevada\", \"Nevada\", \"Nevada\"],\n",
    " \"year\": [2000, 2001, 2002, 2001, 2002, 2003],\n",
    " \"pop\": [1.5, 1.7, 3.6, 2.4, 2.9, 3.2]}\n",
    "frame = pd.DataFrame(data)"
   ]
  },
  {
   "cell_type": "code",
   "execution_count": 4,
   "metadata": {},
   "outputs": [
    {
     "ename": "SyntaxError",
     "evalue": "invalid syntax (1803280522.py, line 2)",
     "output_type": "error",
     "traceback": [
      "\u001b[0;36m  Cell \u001b[0;32mIn[4], line 2\u001b[0;36m\u001b[0m\n\u001b[0;31m    df = pd.\u001b[0m\n\u001b[0m            ^\u001b[0m\n\u001b[0;31mSyntaxError\u001b[0m\u001b[0;31m:\u001b[0m invalid syntax\n"
     ]
    }
   ],
   "source": [
    "# Create a dataframe 'df'\n",
    "df = pd.\n",
    "df = pd.read_csv(\"<PATH TO FILE.CSV>\")\n",
    "\n",
    "# Now \"df\" is a dataframe with the contents of your CSV\n",
    "\n",
    "#There are practice exercises somewhere\n",
    "#Double brackets returns as dataframe, single brackets returns as a series\n",
    "\n",
    "#df.drop does not CHANGE the dataframe, will need to save a version of the dataframe without those elements\n",
    "\n",
    "#At some point \"df\" was changed to \"frame\"\n",
    "#df[df['var1'].str[0] == 'A']- All variables that start with an \"A\"\n",
    "#str.len() - length of the string, df[df['var1'].str.len()>3] good way to check if there are issues with string (eg. if expect states to be 2 letters)\n",
    "#re.escape is used to tell python that the quotes are part of the variable label. Uses a package called \"re\"\n",
    "\n",
    "#query is a way to filter a dataframe\n",
    "\n",
    "#Booleans cannot be missing in python. IE if you have missing data in a True/False column, this becomes important.\n",
    "#Can use \"fill.na\" to address this\n",
    "\n",
    "# Suppose the key column had values a, b, c\n",
    "# dummies now has columns key_a, key_b, and key_c\n",
    "# key_a will be 1 for rows when key == A\n",
    "#dummies = pd.get_dummies(df[\"key\"], prefix=\"key\") #only includes dataframe with dummy variables\n",
    "\n",
    "# Then we can add those columns \n",
    "#df_with_dummies = pd.concat([df, dummies], axis=1) #need to concatenate with maindata frame\n"
   ]
  }
 ],
 "metadata": {
  "kernelspec": {
   "display_name": ".venv",
   "language": "python",
   "name": "python3"
  },
  "language_info": {
   "codemirror_mode": {
    "name": "ipython",
    "version": 3
   },
   "file_extension": ".py",
   "mimetype": "text/x-python",
   "name": "python",
   "nbconvert_exporter": "python",
   "pygments_lexer": "ipython3",
   "version": "3.11.7"
  }
 },
 "nbformat": 4,
 "nbformat_minor": 2
}
