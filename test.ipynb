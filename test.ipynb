{
 "cells": [
  {
   "cell_type": "code",
   "execution_count": 1,
   "metadata": {},
   "outputs": [],
   "source": [
    "def maybe_double_last(hand):\n",
    "    \"\"\"Multiply a Jack card value in the last index position by 2.\n",
    "\n",
    "    :param hand: list - cards in hand.\n",
    "    :return: list - hand with Jacks (if present) value doubled.\n",
    "    \"\"\"\n",
    "    if hand[-1] == 11: \n",
    "       hand[-1] = 22\n",
    "    return hand"
   ]
  },
  {
   "cell_type": "code",
   "execution_count": 3,
   "metadata": {},
   "outputs": [
    {
     "name": "stdout",
     "output_type": "stream",
     "text": [
      "[1, 3, 4, 3, 9, 2]\n",
      "[1, 3, 4, 3, 9, 22]\n"
     ]
    }
   ],
   "source": [
    "hand_1 = [1 , 3, 4, 3, 9, 2]\n",
    "print(maybe_double_last(hand=hand_1))\n",
    "hand_2 = [1 , 3, 4, 3, 9, 11]\n",
    "print(maybe_double_last(hand=hand_2))"
   ]
  }
 ],
 "metadata": {
  "kernelspec": {
   "display_name": ".venv",
   "language": "python",
   "name": "python3"
  },
  "language_info": {
   "codemirror_mode": {
    "name": "ipython",
    "version": 3
   },
   "file_extension": ".py",
   "mimetype": "text/x-python",
   "name": "python",
   "nbconvert_exporter": "python",
   "pygments_lexer": "ipython3",
   "version": "3.11.7"
  }
 },
 "nbformat": 4,
 "nbformat_minor": 2
}
