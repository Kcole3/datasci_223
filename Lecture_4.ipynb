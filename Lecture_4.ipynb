{
 "cells": [
  {
   "cell_type": "code",
   "execution_count": null,
   "metadata": {},
   "outputs": [],
   "source": [
    "#Lecture 4- February 5, 2024\n",
    "\n",
    "\n",
    "#F1 score is a good option to assess overall model performance (as we saw in R assignment, you can have good accuracy and very poor sensitivity)\n",
    "#Therefore, accuracy may not accurately capture some deficits in the model\n",
    "\n",
    "#Logistic regression enables us to have INTERPRETABLE FEATURE IMPORTANCE\n",
    "\n",
    "#Random forests are the most DEMOCRATIC of the models\n",
    "\n",
    "#Tensorflow built by Google. Keras is an offshoot of this.\n",
    "\n",
    "#Simpson's paradox graphic. We see that hours of prep and test results are increasing across subgroups, however, the overall trend is \n",
    "#DOWNWARDS\n",
    "\n",
    "#FHIR- helps EMR systems communicate\n",
    "\n",
    "#Patients will have globally standard codes (similar to ICD codes)\n",
    "\n",
    "#akelio.io- Working with integrated matches (eg. depression and cancer). Public access\n",
    "#vijaw@akelio.io\n",
    "#How to address supply/demand issues. A triaging system (who needs care right away)\n",
    "\n"
   ]
  }
 ],
 "metadata": {
  "language_info": {
   "name": "python"
  }
 },
 "nbformat": 4,
 "nbformat_minor": 2
}
