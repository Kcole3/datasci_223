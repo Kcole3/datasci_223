{
 "cells": [
  {
   "cell_type": "markdown",
   "metadata": {},
   "source": [
    "# Instructions\n",
    "\n",
    "You're a teaching assistant correcting student exams.\n",
    "Keeping track of results manually is getting both tedious and mistake-prone.\n",
    "You decide to make things a little more interesting by putting together some functions to count and calculate results for the class."
   ]
  },
  {
   "cell_type": "markdown",
   "metadata": {},
   "source": [
    "## 1. Rounding Scores\n",
    "\n",
    "While you can give \"partial credit\" on exam questions, overall exam scores have to be `int`s.\n",
    "So before you can do anything else with the class scores, you need to go through the grades and turn any `float` scores into `int`s. Lucky for you, Python has the built-in [`round()`][round] function you can use.\n",
    "\n",
    "Create the function `round_scores(student_scores)` that takes a `list` of `student_scores`.\n",
    "This function should _consume_ the input `list` and `return` a new list with all the scores converted to `int`s.\n",
    "The order of the scores in the resulting `list` is not important.\n",
    "\n",
    "```python\n",
    ">>> student_scores = [90.33, 40.5, 55.44, 70.05, 30.55, 25.45, 80.45, 95.3, 38.7, 40.3]\n",
    ">>> round_scores(student_scores)\n",
    "...\n",
    "[40, 39, 95, 80, 25, 31, 70, 55, 40, 90]\n",
    "```"
   ]
  },
  {
   "cell_type": "code",
   "execution_count": 90,
   "metadata": {},
   "outputs": [
    {
     "name": "stdout",
     "output_type": "stream",
     "text": [
      "[90, 40, 55, 70, 31, 25, 80, 95, 39, 40]\n"
     ]
    }
   ],
   "source": [
    "# Define `student_scores`\n",
    "student_scores = [90.33, 40.5, 55.44, 70.05, 30.55, 25.45, 80.45, 95.3, 38.7, 40.3]\n",
    "\n",
    "# Define `round_scores(list_of_floats)`\n",
    "def round_scores(student_scores):\n",
    "    # Initialize an empty list\n",
    "    rounded_scores = []\n",
    "    # Iterate over the elements of `student_scores`\n",
    "    for score in student_scores:\n",
    "        # Round each element and then append it to `rounded_scores`. Note that everything up to and including .5 is rounded-down in round function\n",
    "        rounded_scores.append(round(score)) #Append the rounded score to `rounded_scores` instead of `None`\n",
    "    # Return `rounded_scores`\n",
    "    return rounded_scores\n",
    "\n",
    "# Call `round_scores()` and print the result\n",
    "print(round_scores(student_scores))\n",
    "\n",
    "    "
   ]
  },
  {
   "cell_type": "markdown",
   "metadata": {},
   "source": [
    "## 2. Non-Passing Students\n",
    "\n",
    "As you were grading the exam, you noticed some students weren't performing as well as you had hoped.\n",
    "But you were distracted, and forgot to note exactly _how many_ students.\n",
    "\n",
    "Create the function `count_failed_students(student_scores)` that takes a `list` of `student_scores`.\n",
    "This function should count up the number of students who don't have passing scores and return that count as an integer.\n",
    "A student needs a score greater than **40** to achieve a passing grade on the exam.\n",
    "\n",
    "```python\n",
    ">>> count_failed_students(student_scores=[90,40,55,70,30,25,80,95,38,40])\n",
    "5\n",
    "```"
   ]
  },
  {
   "cell_type": "code",
   "execution_count": 96,
   "metadata": {},
   "outputs": [
    {
     "data": {
      "text/plain": [
       "5"
      ]
     },
     "execution_count": 96,
     "metadata": {},
     "output_type": "execute_result"
    }
   ],
   "source": [
    "\"Create a function count_failed_students to identify the number of failing test scores\"\n",
    "\n",
    "def count_failed_students(student_scores):\n",
    "\n",
    "    \"param student_scores: an integer list of scores\"\n",
    "    \"return: count of failing student scores defined as score 40 or less\"\n",
    "    \n",
    "    counter=0 #Create a counter to keep track of failing scores\n",
    "    for score in student_scores:\n",
    "        if score <= 40:\n",
    "            counter=counter+1 #add \"1\" for each student score that fails\n",
    "    return counter\n",
    "count_failed_students([90,40,55,70,30,25,80,95,38,40])\n"
   ]
  },
  {
   "cell_type": "markdown",
   "metadata": {},
   "source": [
    "## 3. The \"Best\"\n",
    "\n",
    "The teacher you're assisting wants to find the group of students who've performed \"the best\" on this exam.\n",
    "What qualifies as \"the best\" fluctuates, so you need to find the student scores that are **greater than or equal to** the current threshold.\n",
    "\n",
    "Create the function `above_threshold(student_scores)` taking `student_scores` (a `list` of grades), and `threshold` (the \"top score\" threshold) as parameters.\n",
    "This function should return a `list` of all scores that are `>=` to `threshold`.\n",
    "\n",
    "```python\n",
    ">>> above_threshold(student_scores=[90,40,55,70,30,68,70,75,83,96], threshold=75)\n",
    "[90,75,83,96]\n",
    "```"
   ]
  },
  {
   "cell_type": "code",
   "execution_count": 97,
   "metadata": {},
   "outputs": [
    {
     "name": "stdout",
     "output_type": "stream",
     "text": [
      "[90, 75, 83, 96]\n"
     ]
    }
   ],
   "source": [
    "\"Create a function above_threshold to identify the best scores above a certain threshold\"\n",
    "\n",
    "def above_threshold(student_scores, threshold):\n",
    "    \n",
    "    \"param student_scores: an integer list of scores\"\n",
    "    \"param threshold: a threshold integer score\"\n",
    "    \"return: a list of scores above the designated threshold\"\n",
    "\n",
    "    threshold_list = [] #initialize a list\n",
    "    for score in student_scores: #create a \"for\" loop to iterate on each \"score\" in \"student scores\"\n",
    "        if score >= threshold:\n",
    "            threshold_list.append(score) #append score which passes threshold to the threshold_list. This is similar to concatenate function in R\n",
    "    return threshold_list #return a list\n",
    "print(above_threshold(student_scores=[90,40,55,70,30,68,70,75,83,96], threshold=75))"
   ]
  },
  {
   "cell_type": "markdown",
   "metadata": {},
   "source": [
    "## 4. Calculating Letter Grades\n",
    "\n",
    "The teacher you are assisting likes to assign letter grades as well as numeric scores.\n",
    "Since students rarely score 100 on an exam, the \"letter grade\" lower thresholds are calculated based on the highest score achieved, and increment evenly between the high score and the failing threshold of **<= 40**.\n",
    "\n",
    "Create the function `letter_grades(highest)` that takes the \"highest\" score on the exam as an argument, and returns a `list` of lower score thresholds for each \"American style\" grade interval: `[\"D\", \"C\", \"B\", \"A\"]`.\n",
    "\n",
    "\n",
    "```python\n",
    "\"\"\"Where the highest score is 100, and failing is <= 40.\n",
    "       \"F\" <= 40\n",
    " 41 <= \"D\" <= 55\n",
    " 56 <= \"C\" <= 70\n",
    " 71 <= \"B\" <= 85\n",
    " 86 <= \"A\" <= 100\n",
    "\"\"\"\n",
    "\n",
    ">>> letter_grades(highest=100)\n",
    "[41, 56, 71, 86]\n",
    "\n",
    "\n",
    "\"\"\"Where the highest score is 88, and failing is <= 40.\n",
    "       \"F\" <= 40\n",
    " 41 <= \"D\" <= 52\n",
    " 53 <= \"C\" <= 64\n",
    " 65 <= \"B\" <= 76\n",
    " 77 <= \"A\" <= 88\n",
    "\"\"\"\n",
    "\n",
    ">>> letter_grades(highest=88)\n",
    "[41, 53, 65, 77]\n",
    "```\n"
   ]
  },
  {
   "cell_type": "code",
   "execution_count": 98,
   "metadata": {},
   "outputs": [
    {
     "name": "stdout",
     "output_type": "stream",
     "text": [
      "[41, 53, 65, 77]\n",
      "[41, 56, 71, 86]\n"
     ]
    }
   ],
   "source": [
    "\"Create a function letter_grades to assign a letter grade to ranges of scores, dependent on the highest score\"\n",
    "\n",
    "def letter_grades(highest):\n",
    "\n",
    "    \"param highest: the highest integer score\"\n",
    "    \"return: a list of threshold scores to define letter grades A-D inclusive\"\n",
    "    \n",
    "    threshold_letter = [] #initialize a list\n",
    "    return list(range(41,highest, int((highest-40)/4))) #return a list which defines a range of integer values from 41 to the highest score, \n",
    "#which are seperated into 4 equally spaced bins\n",
    "print(letter_grades(88))\n",
    "print(letter_grades(100))\n",
    "\n",
    "pd.cut(np.array(['predict']),4)\n",
    "\n",
    "pd.cut(np.array([1, 7, 5, 4, 6, 3]), 3)\n"
   ]
  },
  {
   "cell_type": "code",
   "execution_count": 2,
   "metadata": {},
   "outputs": [
    {
     "ename": "NameError",
     "evalue": "name 'pd' is not defined",
     "output_type": "error",
     "traceback": [
      "\u001b[0;31m---------------------------------------------------------------------------\u001b[0m",
      "\u001b[0;31mNameError\u001b[0m                                 Traceback (most recent call last)",
      "Cell \u001b[0;32mIn[2], line 1\u001b[0m\n\u001b[0;32m----> 1\u001b[0m predict_bins\u001b[38;5;241m=\u001b[39m \u001b[43mpd\u001b[49m\u001b[38;5;241m.\u001b[39mcut(merged([\u001b[38;5;124m'\u001b[39m\u001b[38;5;124mpredict\u001b[39m\u001b[38;5;124m'\u001b[39m]),\u001b[38;5;241m4\u001b[39m)\n\u001b[1;32m      3\u001b[0m \u001b[38;5;66;03m#bins = pd.cut(merged['predict'], 4)\u001b[39;00m\n",
      "\u001b[0;31mNameError\u001b[0m: name 'pd' is not defined"
     ]
    }
   ],
   "source": [
    "predict_bins= pd.cut(merged(['predict']),4)\n",
    "\n",
    "#bins = pd.cut(merged['predict'], 4)"
   ]
  },
  {
   "cell_type": "markdown",
   "metadata": {},
   "source": [
    "## 5. Matching Names to Scores\n",
    "\n",
    "You have a list of exam scores in descending order, and another list of student names also sorted in descending order by their exam scores.\n",
    "You would like to match each student name with their exam score and print out an overall class ranking.\n",
    "\n",
    "Create the function `student_ranking(student_scores)` with parameters `student_scores` and `student_names`.\n",
    "Match each student name on the student_names `list` with their score from the student_scores `list`.\n",
    "You can assume each argument `list` will be sorted from highest score(er) to lowest score(er).\n",
    "The function should return a `list` of strings with the format `<rank>. <student name>: <student score>`.\n",
    "\n",
    "```python\n",
    ">>> student_scores = [100, 99, 90, 84, 66, 53, 47]\n",
    ">>> student_names =  ['Joci', 'Sara','Kora','Jan','John','Bern', 'Fred']\n",
    ">>> student_ranking(student_scores, student_names)\n",
    "...\n",
    "['1. Joci: 100', '2. Sara: 99', '3. Kora: 90', '4. Jan: 84', '5. John: 66', '6. Bern: 53', '7. Fred: 47']\n",
    "```"
   ]
  },
  {
   "cell_type": "code",
   "execution_count": 99,
   "metadata": {},
   "outputs": [
    {
     "name": "stdout",
     "output_type": "stream",
     "text": [
      "['1. Joci: 100', '2. Sara: 99', '3. Kora: 90', '4. Jan: 84', '5. John: 66', '6. Bern: 53', '7. Fred: 47']\n"
     ]
    }
   ],
   "source": [
    "\"Create a function student_ranking to match students with their corresponding scores to determine class ranking\"\n",
    "\n",
    "def student_ranking(student_scores, student_names):\n",
    "\n",
    "    \"param student_scores: an integer list in descending order\"\n",
    "    \"param student_names: A list of strings with student names\"\n",
    "    \"return: a list of strings with class rank, name, and score\"\n",
    "\n",
    "    match_students= [] #initialize a list\n",
    "    for index, score in enumerate(student_scores): #enumerate allows to iterate over a list while keeping track of the index of a list element\n",
    "       #\"f\" is a way of combining elements of seperate lists into a string\n",
    "        match_students.append(f\"{index+1}. {student_names[index]}: {score}\") #assign index+1 so starts at \"1\". Curly brackets help \n",
    "        #to group specific string elements\n",
    "    return match_students #return a list\n",
    "student_scores = [100, 99, 90, 84, 66, 53, 47]\n",
    "student_names =  ['Joci', 'Sara','Kora','Jan','John','Bern', 'Fred']\n",
    "print(student_ranking(student_scores, student_names))"
   ]
  },
  {
   "cell_type": "markdown",
   "metadata": {},
   "source": [
    "## 6. A \"Perfect\" Score\n",
    "\n",
    "Although a \"perfect\" score of 100 is rare on an exam, it is interesting to know if at least one student has achieved it.\n",
    "\n",
    "Create the function `perfect_score(student_info)` with parameter `student_info`.\n",
    "`student_info` is a `list` of lists containing the name and score of each student: `[[\"Charles\", 90], [\"Tony\", 80]]`.\n",
    "The function should `return` _the first_ `[<name>, <score>]` pair of the student who scored 100 on the exam.\n",
    "\n",
    "If no 100 scores are found in `student_info`, an empty list `[]` should be returned.\n",
    "\n",
    "```python\n",
    ">>> perfect_score(student_info=[[\"Charles\", 90], [\"Tony\", 80], [\"Alex\", 100]])\n",
    "[\"Alex\", 100]\n",
    "\n",
    ">>> perfect_score(student_info=[[\"Charles\", 90], [\"Tony\", 80]])\n",
    "[]\n",
    "```"
   ]
  },
  {
   "cell_type": "code",
   "execution_count": 102,
   "metadata": {},
   "outputs": [
    {
     "name": "stdout",
     "output_type": "stream",
     "text": [
      "['Alex', 100]\n",
      "['Charles', 100]\n"
     ]
    }
   ],
   "source": [
    "\"Define a function perfect_score which identifies the first student in a list to obtain a perfect score\"\n",
    "\n",
    "def perfect_score (student_info):\n",
    "\n",
    "    \"param student_info: a list of lists of student and their corresponding integer score\"\n",
    "    \"return: a list of first student name with perfect score\"\n",
    "    \n",
    "    for info in student_info:\n",
    "        if info [-1]==100: #-1 refers to the last element of the list\n",
    "            return info\n",
    "    return [] #adding an \"else\" statement can be avoided for more concise code\n",
    "print(perfect_score(student_info=[[\"Charles\", 90], [\"Tony\", 80], [\"Alex\", 100]]))\n",
    "#test to make sure it is the \"first\" student with perfect score that is identified\n",
    "print(perfect_score(student_info=[[\"Charles\", 100], [\"Tony\", 100], [\"Alex\", 100]]))\n"
   ]
  }
 ],
 "metadata": {
  "kernelspec": {
   "display_name": "Python 3",
   "language": "python",
   "name": "python3"
  },
  "language_info": {
   "codemirror_mode": {
    "name": "ipython",
    "version": 3
   },
   "file_extension": ".py",
   "mimetype": "text/x-python",
   "name": "python",
   "nbconvert_exporter": "python",
   "pygments_lexer": "ipython3",
   "version": "3.11.7"
  }
 },
 "nbformat": 4,
 "nbformat_minor": 2
}
